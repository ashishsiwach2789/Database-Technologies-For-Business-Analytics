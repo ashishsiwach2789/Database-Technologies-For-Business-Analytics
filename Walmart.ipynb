{
 "cells": [
  {
   "cell_type": "markdown",
   "metadata": {},
   "source": [
    "\n",
    "# Walmart Polyglot Persistence using SQL and MongoDB \n",
    " \n",
    "This notebook demonstrates a polyglot persistence approach to handling Walmart-style retail data, using SQL (for transactional consistency) and MongoDB (for flexibility and nested document storage).\n",
    " \n",
    "## SQL Database (Relational Model)\n",
    "The SQL portion of the project models core transactional data using a normalized schema with proper foreign key relationships. Key entities include:\n",
    "\n",
    "- Store, Product, Customer, Supplier\n",
    "\n",
    "- Inventory (which links Store, Product, and Supplier)\n",
    "\n",
    "- Sales (which records transactions, linked to Time, Customer, and Inventory)\n",
    "\n",
    "- Time (used for time-series analysis)\n",
    "\n",
    "The ERD reflects best practices in relational modeling and normalization. SQL is used here to ensure data integrity, ACID compliance, and support for complex joins.\n",
    "\n",
    "## MongoDB (NoSQL Document Model)\n",
    "MongoDB is used to model two domains where document-based storage provides flexibility:\n",
    "\n",
    "- Product Catalogue: Contains product details along with an embedded Specifications document.\n",
    "\n",
    "- Customer Reviews: Each review includes embedded Feedback (e.g., helpful votes, comments).\n",
    "\n",
    "These are modeled in MongoDB because:\n",
    "\n",
    "Product Specifications (e.g., dimensions, warranty) are intrinsic to a product and rarely queried independently.\n",
    "\n",
    "Review Feedback benefits from being embedded for atomic access and performance. \n",
    "\n",
    "#### Acknowledgement: Inspired by resources from  ele.exeter.ac.uk.\n"
   ]
  },
  {
   "cell_type": "markdown",
   "metadata": {},
   "source": [
    "## SQL "
   ]
  },
  {
   "cell_type": "markdown",
   "metadata": {},
   "source": [
    "### Install pyodbc\n",
    "This package is used for connecting to SQL Server databases using ODBC."
   ]
  },
  {
   "cell_type": "code",
   "execution_count": 1,
   "metadata": {},
   "outputs": [],
   "source": [
    "# Install pyodbc package\n",
    "import subprocess\n",
    "import sys\n",
    "\n",
    "def install(package):\n",
    "    subprocess.check_call([sys.executable, \"-m\", \"pip\", \"install\", package])\n",
    "    \n",
    "install(\"pyodbc\")"
   ]
  },
  {
   "cell_type": "markdown",
   "metadata": {},
   "source": [
    "### Install pymongo\n",
    "This package is used to interact with MongoDB from Python."
   ]
  },
  {
   "cell_type": "code",
   "execution_count": 2,
   "metadata": {},
   "outputs": [],
   "source": [
    "# Install pymongo package\n",
    "import subprocess\n",
    "import sys\n",
    "\n",
    "def install(package):\n",
    "    subprocess.check_call([sys.executable, \"-m\", \"pip\", \"install\", package])\n",
    "    \n",
    "install(\"pymongo\")"
   ]
  },
  {
   "cell_type": "code",
   "execution_count": 3,
   "metadata": {},
   "outputs": [],
   "source": [
    "import random\n",
    "import string\n",
    "from datetime import datetime, timedelta\n",
    "import pandas as pd\n",
    "import pyodbc\n",
    "import matplotlib.pyplot as plt\n",
    "import numpy as np\n",
    "import pymongo\n",
    "from pymongo import MongoClient\n",
    "import sqlite3\n",
    "import dash\n",
    "from dash import dcc, html, Input, Output, State, ctx\n",
    "import dash_bootstrap_components as dbc\n",
    "import plotly.express as px\n",
    "import warnings\n",
    "warnings.filterwarnings(\"ignore\")"
   ]
  },
  {
   "cell_type": "markdown",
   "metadata": {},
   "source": [
    "### SQL Server Credentials\n"
   ]
  },
  {
   "cell_type": "code",
   "execution_count": 4,
   "metadata": {},
   "outputs": [],
   "source": [
    "server = 'tcp:mcruebs04.isad.isadroot.ex.ac.uk' \n",
    "database = 'BEMM459_GroupAA'\n",
    "username = 'GroupAA' \n",
    "password = 'OazY789*Oc'"
   ]
  },
  {
   "cell_type": "markdown",
   "metadata": {},
   "source": [
    "### SQL Server Connection\n",
    "This establishes a connection to the SQL Server using `pyodbc`. Make sure the correct driver is installed."
   ]
  },
  {
   "cell_type": "code",
   "execution_count": 5,
   "metadata": {},
   "outputs": [],
   "source": [
    "# Driver for own machine.  Comment out when on windows machine.\n",
    "cnxn = pyodbc.connect('DRIVER={ODBC Driver 17 for SQL Server};SERVER='+server+';DATABASE='+database+';UID='+username+';PWD='+ password+';TrustServerCertificate=yes;Encrypt=no;')\n",
    "cursor = cnxn.cursor()"
   ]
  },
  {
   "cell_type": "code",
   "execution_count": null,
   "metadata": {},
   "outputs": [
    {
     "name": "stdout",
     "output_type": "stream",
     "text": [
      "dbo.Product has 100 rows.\n",
      "dbo.Store has 100 rows.\n",
      "dbo.Supplier has 100 rows.\n",
      "dbo.Customer has 100 rows.\n",
      "dbo.Time has 100 rows.\n",
      "dbo.Inventory has 100 rows.\n",
      "dbo.Sales has 100 rows.\n"
     ]
    }
   ],
   "source": [
    "# -------------------------------------------------------------------\n",
    "# Step 1: Drop tables if they exist in the dbo schema.\n",
    "# -------------------------------------------------------------------\n",
    "tables = ['Sales', 'Inventory', 'Time', 'Customer', 'Supplier', 'Store', 'Product']\n",
    "for table in tables:\n",
    "    tsql = f\"IF OBJECT_ID(N'dbo.{table}', N'U') IS NOT NULL DROP TABLE dbo.{table};\"\n",
    "    cursor.execute(tsql)\n",
    "cnxn.commit()\n",
    "\n",
    "# -------------------------------------------------------------------\n",
    "# Step 2: Create Tables in the dbo schema.\n",
    "# -------------------------------------------------------------------\n",
    "\n",
    "# Create Product table\n",
    "tsql = '''\n",
    "CREATE TABLE dbo.Product (\n",
    "    ProductID INT IDENTITY(1,1) PRIMARY KEY,\n",
    "    ProductName NVARCHAR(100),\n",
    "    Category NVARCHAR(50),\n",
    "    Price REAL\n",
    ")\n",
    "'''\n",
    "cursor.execute(tsql)\n",
    "\n",
    "# Create Store table\n",
    "tsql = '''\n",
    "CREATE TABLE dbo.Store (\n",
    "    StoreID INT IDENTITY(1,1) PRIMARY KEY,\n",
    "    StoreName NVARCHAR(100),\n",
    "    Location NVARCHAR(100)\n",
    ")\n",
    "'''\n",
    "cursor.execute(tsql)\n",
    "\n",
    "# Create Supplier table\n",
    "tsql = '''\n",
    "CREATE TABLE dbo.Supplier (\n",
    "    SupplierID INT IDENTITY(1,1) PRIMARY KEY,\n",
    "    SupplierName NVARCHAR(100),\n",
    "    ContactName NVARCHAR(100),\n",
    "    ContactEmail NVARCHAR(100)\n",
    ")\n",
    "'''\n",
    "cursor.execute(tsql)\n",
    "\n",
    "# Create Customer table\n",
    "tsql = '''\n",
    "CREATE TABLE dbo.Customer (\n",
    "    CustomerID INT IDENTITY(1,1) PRIMARY KEY,\n",
    "    CustomerName NVARCHAR(100),\n",
    "    Address NVARCHAR(255),\n",
    "    City NVARCHAR(50),\n",
    "    State NVARCHAR(50)\n",
    ")\n",
    "'''\n",
    "cursor.execute(tsql)\n",
    "\n",
    "# Create Time table\n",
    "tsql = '''\n",
    "CREATE TABLE dbo.Time (\n",
    "    TimeID INT IDENTITY(1,1) PRIMARY KEY,\n",
    "    Date DATE,\n",
    "    Day INT,\n",
    "    Month INT,\n",
    "    Year INT,\n",
    "    Quarter INT\n",
    ")\n",
    "'''\n",
    "cursor.execute(tsql)\n",
    "\n",
    "# Create Inventory table (linking Store, Product, and Supplier)\n",
    "tsql = '''\n",
    "CREATE TABLE dbo.Inventory (\n",
    "    InventoryID INT IDENTITY(1,1) PRIMARY KEY,\n",
    "    StoreID INT,\n",
    "    ProductID INT,\n",
    "    SupplierID INT,\n",
    "    StockQuantity INT,\n",
    "    FOREIGN KEY (StoreID) REFERENCES dbo.Store(StoreID),\n",
    "    FOREIGN KEY (ProductID) REFERENCES dbo.Product(ProductID),\n",
    "    FOREIGN KEY (SupplierID) REFERENCES dbo.Supplier(SupplierID)\n",
    ")\n",
    "'''\n",
    "cursor.execute(tsql)\n",
    "\n",
    "# Create Sales table (fact table)\n",
    "tsql = '''\n",
    "CREATE TABLE dbo.Sales (\n",
    "    SalesID INT IDENTITY(1,1) PRIMARY KEY,\n",
    "    TimeID INT,\n",
    "    CustomerID INT,\n",
    "    InventoryID INT,\n",
    "    Quantity INT,\n",
    "    TotalAmount REAL,\n",
    "    FOREIGN KEY (TimeID) REFERENCES dbo.Time(TimeID),\n",
    "    FOREIGN KEY (CustomerID) REFERENCES dbo.Customer(CustomerID),\n",
    "    FOREIGN KEY (InventoryID) REFERENCES dbo.Inventory(InventoryID)\n",
    ")\n",
    "'''\n",
    "cursor.execute(tsql)\n",
    "\n",
    "cnxn.commit()\n",
    "\n",
    "# -------------------------------------------------------------------\n",
    "# Step 3: Insert Sample Data\n",
    "# -------------------------------------------------------------------\n",
    "\n",
    "# Insert sample data into Product (100 rows)\n",
    "categories = ['Electronics', 'Clothing', 'Books', 'Toys', 'Home']\n",
    "for i in range(1, 101):\n",
    "    product_name = f\"Product {i}\"\n",
    "    category = random.choice(categories)\n",
    "    price = round(random.uniform(10.0, 200.0), 2)\n",
    "    tsql = '''\n",
    "    INSERT INTO dbo.Product (ProductName, Category, Price)\n",
    "    VALUES (?, ?, ?)\n",
    "    '''\n",
    "    cursor.execute(tsql, (product_name, category, price))\n",
    "\n",
    "# Insert sample data into Store (100 rows)\n",
    "locations = ['New York', 'Los Angeles', 'Chicago', 'Houston', 'Phoenix']\n",
    "for i in range(1, 101):\n",
    "    store_name = f\"Store {i}\"\n",
    "    location = random.choice(locations)\n",
    "    tsql = '''\n",
    "    INSERT INTO dbo.Store (StoreName, Location)\n",
    "    VALUES (?, ?)\n",
    "    '''\n",
    "    cursor.execute(tsql, (store_name, location))\n",
    "\n",
    "# Insert sample data into Supplier (100 rows)\n",
    "for i in range(1, 101):\n",
    "    supplier_name = f\"Supplier {i}\"\n",
    "    contact_name = f\"Contact {i}\"\n",
    "    contact_email = f\"contact{i}@supplier.com\"\n",
    "    tsql = '''\n",
    "    INSERT INTO dbo.Supplier (SupplierName, ContactName, ContactEmail)\n",
    "    VALUES (?, ?, ?)\n",
    "    '''\n",
    "    cursor.execute(tsql, (supplier_name, contact_name, contact_email))\n",
    "\n",
    "# Insert sample data into Customer (100 rows)\n",
    "cities = ['New York', 'Los Angeles', 'Chicago', 'Houston', 'Phoenix']\n",
    "states = ['NY', 'CA', 'IL', 'TX', 'AZ']\n",
    "for i in range(1, 101):\n",
    "    customer_name = f\"Customer {i}\"\n",
    "    address = f\"{i} Example St\"\n",
    "    city = random.choice(cities)\n",
    "    state = random.choice(states)\n",
    "    tsql = '''\n",
    "    INSERT INTO dbo.Customer (CustomerName, Address, City, State)\n",
    "    VALUES (?, ?, ?, ?)\n",
    "    '''\n",
    "    cursor.execute(tsql, (customer_name, address, city, state))\n",
    "\n",
    "# Insert sample data into Time (100 rows)\n",
    "start_date = datetime(2025, 1, 1)\n",
    "for i in range(0, 100):\n",
    "    current_date = start_date + timedelta(days=i)\n",
    "    day = current_date.day\n",
    "    month = current_date.month\n",
    "    year = current_date.year\n",
    "    quarter = ((month - 1) // 3) + 1\n",
    "    tsql = '''\n",
    "    INSERT INTO dbo.Time (Date, Day, Month, Year, Quarter)\n",
    "    VALUES (?, ?, ?, ?, ?)\n",
    "    '''\n",
    "    cursor.execute(tsql, (current_date.date(), day, month, year, quarter))\n",
    "\n",
    "# Insert sample data into Inventory (100 rows)\n",
    "for i in range(1, 101):\n",
    "    store_id = random.randint(1, 100)\n",
    "    product_id = random.randint(1, 100)\n",
    "    supplier_id = random.randint(1, 100)\n",
    "    stock_quantity = random.randint(1, 100)\n",
    "    tsql = '''\n",
    "    INSERT INTO dbo.Inventory (StoreID, ProductID, SupplierID, StockQuantity)\n",
    "    VALUES (?, ?, ?, ?)\n",
    "    '''\n",
    "    cursor.execute(tsql, (store_id, product_id, supplier_id, stock_quantity))\n",
    "\n",
    "# Insert sample data into Sales (100 rows)\n",
    "for i in range(1, 101):\n",
    "    time_id = random.randint(1, 100)\n",
    "    customer_id = random.randint(1, 100)\n",
    "    inventory_id = random.randint(1, 100)\n",
    "    quantity = random.randint(1, 10)\n",
    "    # Calculate total amount: quantity multiplied by the price of the product from Inventory.\n",
    "    tsql = 'SELECT ProductID FROM dbo.Inventory WHERE InventoryID = ?'\n",
    "    cursor.execute(tsql, (inventory_id,))\n",
    "    prod_row = cursor.fetchone()\n",
    "    if prod_row:\n",
    "        product_id = prod_row[0]\n",
    "        tsql = 'SELECT Price FROM dbo.Product WHERE ProductID = ?'\n",
    "        cursor.execute(tsql, (product_id,))\n",
    "        price_row = cursor.fetchone()\n",
    "        if price_row:\n",
    "            price = price_row[0]\n",
    "            total_amount = round(quantity * price, 2)\n",
    "        else:\n",
    "            total_amount = 0\n",
    "    else:\n",
    "        total_amount = 0\n",
    "    tsql = '''\n",
    "    INSERT INTO dbo.Sales (TimeID, CustomerID, InventoryID, Quantity, TotalAmount)\n",
    "    VALUES (?, ?, ?, ?, ?)\n",
    "    '''\n",
    "    cursor.execute(tsql, (time_id, customer_id, inventory_id, quantity, total_amount))\n",
    "\n",
    "cnxn.commit()\n",
    "\n",
    "# -------------------------------------------------------------------\n",
    "# Step 4: Verification - Print row counts for each table in dbo schema.\n",
    "# -------------------------------------------------------------------\n",
    "for table in [\"Product\", \"Store\", \"Supplier\", \"Customer\", \"Time\", \"Inventory\", \"Sales\"]:\n",
    "    tsql = f\"SELECT COUNT(*) FROM dbo.{table}\"\n",
    "    cursor.execute(tsql)\n",
    "    count = cursor.fetchone()[0]\n",
    "    print(f\"dbo.{table} has {count} rows.\")\n",
    "\n",
    "#cnxn.close()\n"
   ]
  },
  {
   "cell_type": "code",
   "execution_count": null,
   "metadata": {},
   "outputs": [],
   "source": []
  },
  {
   "cell_type": "markdown",
   "metadata": {},
   "source": [
    "## The following code connects to MongoDB using `pymongo`, creates the collections, generates sample documents, and populates the collections.\n"
   ]
  },
  {
   "cell_type": "markdown",
   "metadata": {},
   "source": [
    "# 1. Connectivity"
   ]
  },
  {
   "cell_type": "markdown",
   "metadata": {},
   "source": [
    "\n",
    "## MongoDB Connection Setup\n",
    "\n",
    "### Make sure your MongoDB instance is running and update the connection URI as needed.\n",
    "### For a local instance, the default URI is typically \"mongodb://localhost:27017/\".\n"
   ]
  },
  {
   "cell_type": "code",
   "execution_count": 6,
   "metadata": {},
   "outputs": [
    {
     "name": "stdout",
     "output_type": "stream",
     "text": [
      "['Walmart_db', 'admin', 'config', 'local']\n"
     ]
    }
   ],
   "source": [
    "# Note: I am using port number 4200. You may have to change this port number if the connection is being refused. \n",
    "# To change the port number, open \"mongod_use this.bat\" (in S:/ drive) and change 4200 to a different number, and then execute the server.\n",
    "# You can also update the .bat file for the the shell (client) for MongoDB with the same number (this file is called \"mongo_use this.bat\" and is also under S:/)\n",
    "mongoclient = pymongo.MongoClient(\"mongodb://localhost:27017/\")\n",
    "\n",
    "#Check what databases exist - the output is a list of database names\n",
    "print(mongoclient.list_database_names())\n"
   ]
  },
  {
   "cell_type": "code",
   "execution_count": 7,
   "metadata": {},
   "outputs": [
    {
     "name": "stdout",
     "output_type": "stream",
     "text": [
      "Walmart_db\n",
      "admin\n",
      "config\n",
      "local\n"
     ]
    }
   ],
   "source": [
    "#You can also check databases that presently exist using a loop\n",
    "dblist = mongoclient.list_database_names()\n",
    "for x in dblist:\n",
    "    print(x)    "
   ]
  },
  {
   "cell_type": "markdown",
   "metadata": {},
   "source": [
    "### Defining user-defined functions (..for later use)"
   ]
  },
  {
   "cell_type": "code",
   "execution_count": 8,
   "metadata": {},
   "outputs": [],
   "source": [
    "#Defining a user function to check if database exists - In MongoDB, a database is not created until it gets content. \n",
    "def check_DatabaseExists(argDBName):\n",
    "    local_dblist = mongoclient.list_database_names()\n",
    "    if argDBName in local_dblist:\n",
    "        print(\"The database \", argDBName, \" exists.\")\n",
    "    else:\n",
    "        print(\"The database \", argDBName, \" does not exist.\")\n",
    "\n",
    "#Defining a user function to check if a collection exists - In MongoDB, a collection is not created until it gets content. \n",
    "def check_CollectionExists(argDBName, argCollName, local_mydb):\n",
    "    local_collist = local_mydb.list_collection_names()\n",
    "    if argCollName in local_collist:\n",
    "        print(\"The collection \",  argCollName, \"exists in database \", argDBName)\n",
    "    else:\n",
    "        print(\"The collection \", argCollName, \" does not exist in database \", argDBName)"
   ]
  },
  {
   "cell_type": "markdown",
   "metadata": {},
   "source": [
    "# 2. Create new MongoDB database"
   ]
  },
  {
   "cell_type": "code",
   "execution_count": 9,
   "metadata": {},
   "outputs": [
    {
     "name": "stdout",
     "output_type": "stream",
     "text": [
      "<class 'pymongo.synchronous.database.Database'>\n"
     ]
    }
   ],
   "source": [
    "# Create/use a database for our Walmart project      \n",
    "mydb = mongoclient[\"Walmart_db\"]\n",
    "print(type(mydb))\n"
   ]
  },
  {
   "cell_type": "code",
   "execution_count": 10,
   "metadata": {},
   "outputs": [
    {
     "name": "stdout",
     "output_type": "stream",
     "text": [
      "The database  Walmart_db  exists.\n",
      "\n"
     ]
    }
   ],
   "source": [
    "#Check if database exists by calling function check_DatabaseExists with name of database as the arguement\n",
    "check_DatabaseExists(\"Walmart_db\")\n",
    "\n",
    "'''\n",
    "#Without a function the code will be as follows\n",
    "dblist = mongoclient.list_database_names()\n",
    "if \"Database_Walmart_db\" in dblist:\n",
    "    print(\"The database 'Walmart_db' exists.\")\n",
    "else:\n",
    "    print(\"The database 'Walmart_db' does not exist.\")\n",
    "'''\n",
    "\n",
    "print()"
   ]
  },
  {
   "cell_type": "markdown",
   "metadata": {},
   "source": [
    "# 3. Create new Collection "
   ]
  },
  {
   "cell_type": "markdown",
   "metadata": {},
   "source": [
    "Creating two collections: **product_catalogue:** and **customer_reviews:**\n",
    "\n",
    "**Note:** In MongoDB, collections are created automatically when you first insert a document.\n"
   ]
  },
  {
   "cell_type": "code",
   "execution_count": 12,
   "metadata": {},
   "outputs": [
    {
     "name": "stdout",
     "output_type": "stream",
     "text": [
      "<class 'pymongo.synchronous.collection.Collection'>\n",
      "<class 'pymongo.synchronous.collection.Collection'>\n"
     ]
    }
   ],
   "source": [
    "# Define or create the collections\n",
    "product_collection = mydb['Product_catalogue']\n",
    "print(type(product_collection))\n",
    "review_collection = mydb['Customer_reviews']\n",
    "print(type(review_collection))"
   ]
  },
  {
   "cell_type": "markdown",
   "metadata": {},
   "source": [
    "# 4. Add documents"
   ]
  },
  {
   "cell_type": "markdown",
   "metadata": {},
   "source": [
    "### Generate Sample Documents for the Product Catalogue\n"
   ]
  },
  {
   "cell_type": "code",
   "execution_count": null,
   "metadata": {},
   "outputs": [
    {
     "name": "stdout",
     "output_type": "stream",
     "text": [
      "Inserted 40 documents into the product_catalogue collection.\n"
     ]
    }
   ],
   "source": [
    "# Read the product CSV file to get product IDs\n",
    "df_products = pd.read_csv(\"Product.csv\")\n",
    "# Assume the CSV has a 'product_id' column; use up to 40 entries.\n",
    "product_ids = df_products['ProductID'].tolist()[:40]\n",
    "\n",
    "def create_sample_products_from_csv(product_ids):\n",
    "    \"\"\"\n",
    "    Generate a list of product documents aligned with the RDBMS Product table.\n",
    "    \n",
    "    Each document includes:\n",
    "      - product_id (from CSV)\n",
    "      - name\n",
    "      - category\n",
    "      - price\n",
    "    \n",
    "      - description\n",
    "      - specifications: an embedded document of various attributes.\n",
    "      - images: an array of image URLs.\n",
    "      - reviews: an array of review sub-documents.\n",
    "      - availability: product stock status.\n",
    "      - updatedAt: timestamp for the last update.\n",
    "      - customAttributes: additional metadata.\n",
    "      \n",
    "    Parameters:\n",
    "        product_ids (List): List of product IDs read from the CSV.\n",
    "        \n",
    "    Returns:\n",
    "        List[dict]: A list of product documents.\n",
    "    \"\"\"\n",
    "    products = []\n",
    "    categories = [\"Electronics\", \"Home\", \"Clothing\", \"Toys\"]\n",
    "    descriptions = [\n",
    "        \"High quality product with excellent performance.\",\n",
    "        \"A great addition to your home.\",\n",
    "        \"Fashionable and comfortable.\",\n",
    "        \"Fun and engaging for all ages.\"\n",
    "    ]\n",
    "    availabilities = [\"in stock\", \"pre-order\", \"out of stock\"]\n",
    "    \n",
    "    specifications_options = [\n",
    "        {\"size\": \"M\", \"color\": \"Red\", \"technical_details\": \"Specs A\"},\n",
    "        {\"size\": \"L\", \"color\": \"Blue\", \"technical_details\": \"Specs B\"},\n",
    "        {\"size\": \"S\", \"color\": \"Green\", \"technical_details\": \"Specs C\"}\n",
    "    ]\n",
    "    \n",
    "    for pid in product_ids:\n",
    "        product = {\n",
    "            \"product_id\": pid,  # Use the product id from the CSV.\n",
    "            \"name\": f\"Product {pid}\",\n",
    "            \"category\": random.choice(categories),\n",
    "            \"price\": round(random.uniform(10, 500), 2),\n",
    "            \"description\": random.choice(descriptions),\n",
    "            \"specifications\": random.choice(specifications_options),\n",
    "            \"availability\": random.choice(availabilities),\n",
    "            \"updatedAt\": datetime.now(),\n",
    "            \"customAttributes\": {\n",
    "                \"warranty\": f\"{random.choice([1, 2, 3])} years\",\n",
    "                \"manufacturer\": f\"Manufacturer {random.randint(1, 5)}\"\n",
    "            }\n",
    "        }\n",
    "        products.append(product)\n",
    "    return products\n",
    "\n",
    "# Create product documents using product_ids from the CSV.\n",
    "sample_products = create_sample_products_from_csv(product_ids)\n",
    "\n",
    "result = product_collection.insert_many(sample_products)\n",
    "print(f\"Inserted {len(result.inserted_ids)} documents into the product_catalogue collection.\")\n"
   ]
  },
  {
   "cell_type": "markdown",
   "metadata": {},
   "source": [
    "### Generate Sample Documents for Customer Reviews\n",
    "Each review document includes:\n",
    "- A unique review ID and the associated product ID (linking to a product in the catalogue).\n",
    "- The reviewer's name, a rating, review text, and the review date.\n",
    "- An embedded document (`feedback`) that holds additional feedback details such as helpful votes and an array of comments.\n",
    "This design allows grouping related review feedback directly with the review, simplifying access and updates."
   ]
  },
  {
   "cell_type": "code",
   "execution_count": 14,
   "metadata": {},
   "outputs": [
    {
     "name": "stdout",
     "output_type": "stream",
     "text": [
      "Inserted 40 documents into the review_collection.\n"
     ]
    }
   ],
   "source": [
    "def generate_synthetic_review(product_name, product_category):\n",
    "    \"\"\"\n",
    "    Generate a single synthetic review for a product.\n",
    "    \n",
    "    The review's comment varies based on a random rating:\n",
    "      - Negative if rating < 3.\n",
    "      - Neutral if rating == 3.\n",
    "      - Positive if rating > 3.\n",
    "    \n",
    "    Returns:\n",
    "        dict: Synthetic review with rating, comment, and date.\n",
    "    \"\"\"\n",
    "    rating = random.randint(1, 5)\n",
    "    if rating < 3:\n",
    "        comment = (f\"I was disappointed with {product_name} in the {product_category} category. \"\n",
    "                   f\"It did not meet my expectations.\")\n",
    "    elif rating == 3:\n",
    "        comment = (f\"{product_name} from {product_category} was just okay, neither good nor bad.\")\n",
    "    else:\n",
    "        comment = (f\"I really enjoyed {product_name} from the {product_category} category! \"\n",
    "                   f\"It exceeded my expectations.\")\n",
    "    return {\n",
    "        \"rating\": rating,\n",
    "        \"comment\": comment,\n",
    "        \"date\": datetime.now() - timedelta(days=random.randint(0, 365))\n",
    "    }\n",
    "\n",
    "# Load Customer table from CSV.\n",
    "# Expected columns: CustomerID, CustomerName, Address, City, State\n",
    "df_customers = pd.read_csv(\"Customer.csv\")\n",
    "# Limit to 40 rows.\n",
    "df_customers = df_customers.head(40)\n",
    "\n",
    "# Load Product table from CSV.\n",
    "# Expected columns: ProductID, ProductName, Category, Price\n",
    "df_products = pd.read_csv(\"Product.csv\")\n",
    "# Use only the first 40 products for consistency.\n",
    "df_products = df_products.head(40)\n",
    "\n",
    "# Create a list of dictionaries for product information.\n",
    "products_info = df_products[['ProductID', 'ProductName', 'Category']].to_dict('records')\n",
    "\n",
    "def create_grouped_product_review_documents(df_customers, products_info):\n",
    "    \"\"\"\n",
    "    For each product, randomly select two distinct customers and generate one synthetic review per customer.\n",
    "    Then create a grouped document that includes:\n",
    "      - product_id, product_name, product_category\n",
    "      - reviews: an array containing two review sub-documents (each with customer_id, customer_name, city, state, and synthetic_review)\n",
    "      - customer_cities: a list of unique cities from the selected reviews\n",
    "      - customer_states: a list of unique states from the selected reviews\n",
    "      - updatedAt: timestamp for the last update.\n",
    "      \n",
    "    Returns:\n",
    "        List[dict]: A list of grouped product review documents.\n",
    "    \"\"\"\n",
    "    grouped_docs = []\n",
    "    for prod in products_info:\n",
    "        product_id = prod[\"ProductID\"]\n",
    "        product_name = prod[\"ProductName\"]\n",
    "        product_category = prod[\"Category\"]\n",
    "        \n",
    "        # Randomly select two distinct customers.\n",
    "        selected_customers = df_customers.sample(n=2)\n",
    "        reviews = []\n",
    "        cities = []\n",
    "        states = []\n",
    "        for _, cust_row in selected_customers.iterrows():\n",
    "            synthetic_review = generate_synthetic_review(product_name, product_category)\n",
    "            review_doc = {\n",
    "                \"customer_id\": cust_row[\"CustomerID\"],\n",
    "                \"customer_name\": cust_row[\"CustomerName\"],\n",
    "                \"city\": cust_row[\"City\"],\n",
    "                \"state\": cust_row[\"State\"],\n",
    "                \"synthetic_review\": synthetic_review\n",
    "            }\n",
    "            reviews.append(review_doc)\n",
    "            cities.append(cust_row[\"City\"])\n",
    "            states.append(cust_row[\"State\"])\n",
    "        \n",
    "        doc = {\n",
    "            \"product_id\": product_id,\n",
    "            \"product_name\": product_name,\n",
    "            \"product_category\": product_category,\n",
    "            \"reviews\": reviews,\n",
    "            \"customer_cities\": list(set(cities)),\n",
    "            \"customer_states\": list(set(states)),\n",
    "            \"updatedAt\": datetime.now()\n",
    "        }\n",
    "        grouped_docs.append(doc)\n",
    "    return grouped_docs\n",
    "\n",
    "# Create grouped product review documents.\n",
    "grouped_product_review_docs = create_grouped_product_review_documents(df_customers, products_info)\n",
    "\n",
    "result = review_collection.insert_many(grouped_product_review_docs)\n",
    "print(f\"Inserted {len(result.inserted_ids)} documents into the review_collection.\")\n"
   ]
  },
  {
   "cell_type": "code",
   "execution_count": 13,
   "metadata": {
    "scrolled": true
   },
   "outputs": [
    {
     "name": "stdout",
     "output_type": "stream",
     "text": [
      "The database  Walmart_db  exists.\n",
      "The collection  Customer_reviews exists in database  Walmart_db\n"
     ]
    }
   ],
   "source": [
    "#Check if Database Exists .. In MongoDB, a collection is not created until it gets content\n",
    "#Note that now data has been added\n",
    "check_DatabaseExists(\"Walmart_db\")\n",
    "\n",
    "#Check if Collection Exists .. In MongoDB, a collection is not created until it gets content\n",
    "#Note that now data has been added\n",
    "check_CollectionExists(\"Walmart_db\", \"Customer_reviews\", mydb)"
   ]
  },
  {
   "cell_type": "markdown",
   "metadata": {},
   "source": [
    "# 5. Query documents"
   ]
  },
  {
   "cell_type": "markdown",
   "metadata": {},
   "source": [
    "### Verification: Query the Collections\n",
    "\n",
    "Query for a few documents from each collection to verify that the data has been inserted correctly.\n"
   ]
  },
  {
   "cell_type": "markdown",
   "metadata": {},
   "source": [
    "#### The find_one() method returns the first occurrence in the selection."
   ]
  },
  {
   "cell_type": "code",
   "execution_count": 14,
   "metadata": {},
   "outputs": [
    {
     "name": "stdout",
     "output_type": "stream",
     "text": [
      "Sample Product Document:\n",
      "{'_id': ObjectId('67eafbfe1b4fd380e3080ebe'), 'product_id': 1, 'name': 'Product 1', 'category': 'Clothing', 'price': 276.49, 'description': 'Fashionable and comfortable.', 'specifications': {'size': 'L', 'color': 'Blue', 'technical_details': 'Specs B'}, 'availability': 'pre-order', 'updatedAt': datetime.datetime(2025, 3, 31, 21, 33, 2, 332000), 'customAttributes': {'warranty': '2 years', 'manufacturer': 'Manufacturer 5'}}\n"
     ]
    }
   ],
   "source": [
    "print(\"Sample Product Document:\")\n",
    "print(product_collection.find_one())"
   ]
  },
  {
   "cell_type": "code",
   "execution_count": 15,
   "metadata": {},
   "outputs": [
    {
     "name": "stdout",
     "output_type": "stream",
     "text": [
      "{'_id': ObjectId('67eafc001b4fd380e3080ee6'), 'product_id': 1, 'product_name': 'Product 1', 'product_category': 'Electronics', 'reviews': [{'customer_id': 15, 'customer_name': 'Customer 15', 'city': 'Chicago', 'state': 'NY', 'synthetic_review': {'rating': 3, 'comment': 'Product 1 from Electronics was just okay, neither good nor bad.', 'date': datetime.datetime(2024, 10, 18, 21, 33, 4, 288000)}}, {'customer_id': 6, 'customer_name': 'Customer 6', 'city': 'Chicago', 'state': 'IL', 'synthetic_review': {'rating': 4, 'comment': 'I really enjoyed Product 1 from the Electronics category! It exceeded my expectations.', 'date': datetime.datetime(2024, 5, 24, 21, 33, 4, 288000)}}], 'customer_cities': ['Chicago'], 'customer_states': ['IL', 'NY'], 'updatedAt': datetime.datetime(2025, 3, 31, 21, 33, 4, 288000)}\n",
      "{'_id': ObjectId('67eafc001b4fd380e3080ee7'), 'product_id': 2, 'product_name': 'Product 2', 'product_category': 'Clothing', 'reviews': [{'customer_id': 28, 'customer_name': 'Customer 28', 'city': 'New York', 'state': 'TX', 'synthetic_review': {'rating': 1, 'comment': 'I was disappointed with Product 2 in the Clothing category. It did not meet my expectations.', 'date': datetime.datetime(2024, 4, 8, 21, 33, 4, 288000)}}, {'customer_id': 40, 'customer_name': 'Customer 40', 'city': 'Houston', 'state': 'TX', 'synthetic_review': {'rating': 5, 'comment': 'I really enjoyed Product 2 from the Clothing category! It exceeded my expectations.', 'date': datetime.datetime(2024, 7, 22, 21, 33, 4, 288000)}}], 'customer_cities': ['New York', 'Houston'], 'customer_states': ['TX'], 'updatedAt': datetime.datetime(2025, 3, 31, 21, 33, 4, 288000)}\n"
     ]
    }
   ],
   "source": [
    "#Python MongoDB Limit\n",
    "#To limit the result in MongoDB, we use the limit() method. The limit() method takes one parameter, a number defining how many documents to return.\n",
    "#Limit the result to only return 2 documents:\n",
    "myresult = review_collection.find().limit(2)\n",
    "\n",
    "#print the result:\n",
    "for x in myresult:\n",
    "    print(x)"
   ]
  },
  {
   "cell_type": "markdown",
   "metadata": {},
   "source": [
    "# 9. Drop collection (if needed)"
   ]
  },
  {
   "cell_type": "code",
   "execution_count": 44,
   "metadata": {},
   "outputs": [
    {
     "name": "stdout",
     "output_type": "stream",
     "text": [
      "The collection  product_cataloque  does not exist in database  Walmart_db\n"
     ]
    }
   ],
   "source": [
    "#Python MongoDB Drop Collection - You can delete a collection by using the drop() method. All deleted indexes\n",
    "product_collection.drop()\n",
    "\n",
    "#Check if the collection exists by calling the user function defined earlier\n",
    "check_CollectionExists(\"Walmart_db\", \"product_cataloque\", mydb)"
   ]
  },
  {
   "cell_type": "code",
   "execution_count": 45,
   "metadata": {},
   "outputs": [
    {
     "name": "stdout",
     "output_type": "stream",
     "text": [
      "The collection  Customer_reviews  does not exist in database  Walmart_db\n"
     ]
    }
   ],
   "source": [
    "#Python MongoDB Drop Collection - You can delete a collection by using the drop() method. All deleted indexes\n",
    "review_collection.drop()\n",
    "\n",
    "#Check if the collection exists by calling the user function defined earlier\n",
    "check_CollectionExists(\"Walmart_db\", \"Customer_reviews\", mydb)"
   ]
  },
  {
   "cell_type": "markdown",
   "metadata": {},
   "source": [
    "# 10. Drop database (if needed)"
   ]
  },
  {
   "cell_type": "code",
   "execution_count": 46,
   "metadata": {},
   "outputs": [
    {
     "name": "stdout",
     "output_type": "stream",
     "text": [
      "The database  Walmart_db  does not exist.\n"
     ]
    }
   ],
   "source": [
    "#Drop database using instance of MongoClient\n",
    "mongoclient.drop_database(\"Walmart_db\")\n",
    "\n",
    "#Check to see if database exists by calling the user function defined earlier \n",
    "check_DatabaseExists(\"Walmart_db\")"
   ]
  },
  {
   "cell_type": "markdown",
   "metadata": {},
   "source": [
    "## 11. Visualizations"
   ]
  },
  {
   "cell_type": "markdown",
   "metadata": {},
   "source": [
    "# Dashboard for Analytics "
   ]
  },
  {
   "cell_type": "code",
   "execution_count": 16,
   "metadata": {},
   "outputs": [
    {
     "name": "stdout",
     "output_type": "stream",
     "text": [
      "Dash app running on http://127.0.0.1:8050/\n"
     ]
    }
   ],
   "source": [
    "\n",
    "# Query 1: Total Sales per Product Category\n",
    "category_query = '''\n",
    "SELECT Category, SUM(TotalAmount) AS TotalSales\n",
    "FROM Sales\n",
    "JOIN Inventory ON Sales.InventoryID = Inventory.InventoryID\n",
    "JOIN Product ON Inventory.ProductID = Product.ProductID\n",
    "GROUP BY Category;\n",
    "'''\n",
    "category_df = pd.read_sql(category_query, cnxn)\n",
    "\n",
    "# Query 2: Sales Trend Over Time\n",
    "trend_query = '''\n",
    "SELECT t.Date, SUM(s.TotalAmount) AS TotalSales\n",
    "FROM Sales s\n",
    "JOIN Time t ON s.TimeID = t.TimeID\n",
    "GROUP BY t.Date\n",
    "ORDER BY t.Date;\n",
    "'''\n",
    "trend_df = pd.read_sql(trend_query, cnxn)\n",
    "trend_df['Date'] = pd.to_datetime(trend_df['Date'])\n",
    "\n",
    "# Query 3: Average CLV by City\n",
    "clv_query = '''\n",
    "SELECT \n",
    "    c.City, \n",
    "    COUNT(DISTINCT c.CustomerID) AS NumCustomers,\n",
    "    SUM(s.TotalAmount) AS TotalCLV,\n",
    "    AVG(s.TotalAmount) AS AvgCLV\n",
    "FROM Sales s\n",
    "JOIN Customer c ON s.CustomerID = c.CustomerID\n",
    "GROUP BY c.City;\n",
    "'''\n",
    "clv_df = pd.read_sql(clv_query, cnxn)\n",
    "\n",
    "# Query 4: Inventory Value per Store\n",
    "inventory_query = '''\n",
    "SELECT \n",
    "    st.StoreID,\n",
    "    st.StoreName,\n",
    "    st.Location,\n",
    "    i.ProductID,\n",
    "    i.StockQuantity\n",
    "FROM Store st\n",
    "JOIN Inventory i ON st.StoreID = i.StoreID;\n",
    "'''\n",
    "inventory_df = pd.read_sql(inventory_query, cnxn)\n",
    "mongo_docs = list(mydb.Product_catalogue.find())\n",
    "mongo_df = pd.DataFrame(mongo_docs)\n",
    "\n",
    "# Ensure the product id in MongoDB is an integer for merging.\n",
    "mongo_df['product_id'] = mongo_df['product_id'].astype(int)\n",
    "\n",
    "merged_df = pd.merge(inventory_df, mongo_df[['product_id', 'price']], \n",
    "                     left_on='ProductID', right_on='product_id', how='left')\n",
    "\n",
    "# Calculate the inventory value for each record.\n",
    "merged_df['InventoryValue'] = merged_df['StockQuantity'] * merged_df['price']\n",
    "# Aggregate inventory value by store location\n",
    "inventory_agg_df = merged_df.groupby(['Location'])['InventoryValue'].sum().reset_index()\n",
    "\n",
    "\n",
    "\n",
    "\n",
    "# Query 5: Top 10 Products by Average Rating\n",
    "# MongoDB Query: Product availability by category\n",
    "mongo_data = list(mydb.Product_catalogue.find({}, {\"category\": 1, \"availability\": 1, \"_id\": 0}))\n",
    "availability_df = pd.DataFrame(mongo_data)\n",
    "availability_df = availability_df.groupby([\"category\", \"availability\"]).size().reset_index(name=\"ProductCount\")\n",
    "\n",
    "# Create visualizations\n",
    "category_fig = px.bar(category_df, x='Category', y='TotalSales', title='Total Sales per Product Category')\n",
    "trend_fig = px.line(trend_df, x='Date', y='TotalSales', markers=True, title='Sales Trend Over Time')\n",
    "clv_fig = px.bar(clv_df, x='City', y='AvgCLV', title='Average Customer Lifetime Value by City')\n",
    "inventory_fig = px.bar(inventory_agg_df, x='Location', y='InventoryValue', title='Inventory Value per Store')\n",
    "availability_fig = px.bar(availability_df, x='category', y='ProductCount', color='availability', barmode='group', title='Product Availability by Category')\n",
    "\n",
    "# KPIs\n",
    "total_sales = category_df['TotalSales'].sum()\n",
    "avg_clv = clv_df['AvgCLV'].mean()\n",
    "total_inventory_value = merged_df['InventoryValue'].sum()\n",
    "total_products = len(mongo_df)\n",
    "\n",
    "# Dash App setup\n",
    "app = dash.Dash(__name__, external_stylesheets=[dbc.themes.BOOTSTRAP])\n",
    "\n",
    "# Layout with CRUD form and visualizations\n",
    "app.layout = dbc.Container([\n",
    "    html.H1(\"Walmart Data Insights Dashboard\", className=\"text-center mt-3 mb-4\"),\n",
    "\n",
    "    # CRUD Form for ProductCatalogue\n",
    "    dbc.Row([\n",
    "        dbc.Col([\n",
    "            html.H5(\"Manage Product (MongoDB + SQL Sync)\"),\n",
    "            dbc.Input(id=\"prod-id\", placeholder=\"Product ID\", type=\"number\", className=\"mb-2\"),\n",
    "            dbc.Input(id=\"prod-category\", placeholder=\"Category\", type=\"text\", className=\"mb-2\"),\n",
    "            dbc.Input(id=\"prod-price\", placeholder=\"Price\", type=\"number\", className=\"mb-2\"),\n",
    "            dbc.Input(id=\"prod-status\", placeholder=\"Availability Status\", type=\"text\", className=\"mb-2\"),\n",
    "            dbc.Button(\"Add/Update Product\", id=\"add-btn\", color=\"success\", className=\"me-2\"),\n",
    "            dbc.Button(\"Delete Product\", id=\"delete-btn\", color=\"danger\"),\n",
    "            html.Div(id=\"crud-output\", className=\"mt-3\")\n",
    "        ], md=6)\n",
    "    ], className=\"mb-4\"),\n",
    "\n",
    "    dbc.Row([\n",
    "        dbc.Col(dcc.Graph(figure=category_fig), md=6),\n",
    "        dbc.Col(dcc.Graph(figure=clv_fig), md=6)\n",
    "    ]),\n",
    "    dbc.Row([\n",
    "        dbc.Col(dcc.Graph(figure=trend_fig), md=6),\n",
    "        dbc.Col(dcc.Graph(figure=inventory_fig), md=6)\n",
    "    ]),\n",
    "    dbc.Row([\n",
    "        dbc.Col(dcc.Graph(figure=availability_fig), md=12)\n",
    "    ])\n",
    "], fluid=True)\n",
    "\n",
    "# Callback for Create, Update, and Delete actions with validation and SQL sync\n",
    "@app.callback(\n",
    "    Output(\"crud-output\", \"children\"),\n",
    "    Input(\"add-btn\", \"n_clicks\"),\n",
    "    Input(\"delete-btn\", \"n_clicks\"),\n",
    "    State(\"prod-id\", \"value\"),\n",
    "    State(\"prod-category\", \"value\"),\n",
    "    State(\"prod-price\", \"value\"),\n",
    "    State(\"prod-status\", \"value\")\n",
    ")\n",
    "def manage_product(add_clicks, del_clicks, pid, category, price, status):\n",
    "    if pid is None:\n",
    "        return \"⚠️ Product ID is required.\"\n",
    "\n",
    "    if ctx.triggered_id == \"add-btn\":\n",
    "        if not category or price is None or not status:\n",
    "            return \"⚠️ All fields must be filled to add or update.\"\n",
    "\n",
    "        existing = mydb.Product_catalogue.find_one({\"product_id\": int(pid)})\n",
    "        data = {\n",
    "            \"product_id\": int(pid),\n",
    "            \"category\": category,\n",
    "            \"price\": float(price),\n",
    "            \"availabilitystatus\": status,\n",
    "            \"updated_at\": datetime.utcnow()\n",
    "        }\n",
    "\n",
    "        if existing:\n",
    "            mydb.Product_catalogue.update_one({\"product_id\": int(pid)}, {\"$set\": data})\n",
    "            message = f\"🔄 Product {pid} updated in MongoDB.\"\n",
    "        else:\n",
    "            mydb.Product_catalogue.insert_one(data)\n",
    "            message = f\"✅ Product {pid} added to MongoDB.\"\n",
    "\n",
    "        try:\n",
    "            cursor.execute(\"\"\"\n",
    "                IF EXISTS (SELECT 1 FROM Product WHERE ProductID = ?)\n",
    "                UPDATE Product SET Category = ?, Price = ? WHERE ProductID = ?\n",
    "                ELSE\n",
    "                INSERT INTO Product (ProductID, Category, Price) VALUES (?, ?, ?)\n",
    "            \"\"\", pid, category, price, pid, pid, category, price)\n",
    "            cnxn.commit()\n",
    "            message += \" Synced with SQL.\"\n",
    "        except Exception as e:\n",
    "            message += f\" ❌ SQL Sync Failed: {str(e)}\"\n",
    "\n",
    "        return message\n",
    "\n",
    "    elif ctx.triggered_id == \"delete-btn\":\n",
    "        result = mydb.Product_catalogue.delete_one({\"product_id\": int(pid)})\n",
    "        if result.deleted_count:\n",
    "            try:\n",
    "                cursor.execute(\"DELETE FROM Product WHERE ProductID = ?\", pid)\n",
    "                cnxn.commit()\n",
    "                return f\"🗑️ Product {pid} deleted from MongoDB and SQL.\"\n",
    "            except Exception as e:\n",
    "                return f\"⚠️ Mongo deleted, SQL failed: {str(e)}\"\n",
    "        else:\n",
    "            return f\"⚠️ Product {pid} not found in MongoDB.\"\n",
    "\n",
    "    return \"\"\n",
    "\n",
    "if __name__ == '__main__':\n",
    "    app.run_server(jupyter_mode = 'external', debug=True)\n"
   ]
  },
  {
   "cell_type": "markdown",
   "metadata": {},
   "source": [
    "### Close SQL Connection"
   ]
  },
  {
   "cell_type": "code",
   "execution_count": null,
   "metadata": {},
   "outputs": [],
   "source": [
    "cnxn.close()"
   ]
  }
 ],
 "metadata": {
  "kernelspec": {
   "display_name": "base",
   "language": "python",
   "name": "python3"
  },
  "language_info": {
   "codemirror_mode": {
    "name": "ipython",
    "version": 3
   },
   "file_extension": ".py",
   "mimetype": "text/x-python",
   "name": "python",
   "nbconvert_exporter": "python",
   "pygments_lexer": "ipython3",
   "version": "3.12.4"
  }
 },
 "nbformat": 4,
 "nbformat_minor": 4
}
